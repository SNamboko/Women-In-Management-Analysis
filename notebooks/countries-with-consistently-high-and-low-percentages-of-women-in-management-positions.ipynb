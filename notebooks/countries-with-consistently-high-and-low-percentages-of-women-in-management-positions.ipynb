{
 "cells": [
  {
   "cell_type": "markdown",
   "metadata": {},
   "source": [
    "# **Women In Management Analysis:**\n",
    "# Which countries have consistently shown a high percentage of women in managerial roles? Conversely, which countries have struggled?\n",
    "\n",
    "## Introduction\n",
    "We aim to identify countries that have consistently shown a high or low percentage of women in senior and middle management positions. Understanding variations across countries is crucial for tailoring interventions and policies to address disparities. \n",
    "\n",
    "This analysis aligns with SDG 5 (Gender Equality) by providing insights into the specific regions that may require targeted efforts to improve women's representation in leadership roles."
   ]
  },
  {
   "cell_type": "markdown",
   "metadata": {},
   "source": [
    "## Data Loading and Exploration\n",
    "### Import Libraries"
   ]
  },
  {
   "cell_type": "code",
   "execution_count": null,
   "metadata": {},
   "outputs": [],
   "source": [
    "# Import necessary libraries\n",
    "import pandas as pd\n",
    "import matplotlib.pyplot as plt\n",
    "import seaborn as sns\n"
   ]
  },
  {
   "cell_type": "markdown",
   "metadata": {},
   "source": [
    "### Load the dataset"
   ]
  },
  {
   "cell_type": "code",
   "execution_count": null,
   "metadata": {},
   "outputs": [],
   "source": [
    "# Load the dataset\n",
    "df = pd.read_csv('data/your_dataset.csv')"
   ]
  },
  {
   "cell_type": "markdown",
   "metadata": {},
   "source": [
    "### Exploring the dataset\n",
    "#### Display basic information"
   ]
  },
  {
   "cell_type": "code",
   "execution_count": null,
   "metadata": {},
   "outputs": [],
   "source": [
    "# Display basic information about the dataset\n",
    "df.info()"
   ]
  },
  {
   "cell_type": "markdown",
   "metadata": {},
   "source": [
    "#### Show a sample of the dataset"
   ]
  },
  {
   "cell_type": "code",
   "execution_count": null,
   "metadata": {},
   "outputs": [],
   "source": [
    "# Show a sample of the dataset\n",
    "df.head()"
   ]
  },
  {
   "cell_type": "markdown",
   "metadata": {},
   "source": [
    "## Data Analysis\n",
    "### Analytical Approach\n",
    "We will analyze the 'Country' and 'Value' variables to identify countries with consistently high and low percentages of women in management positions. A visual representation, such as a bar plot, will be used to showcase the findings."
   ]
  },
  {
   "cell_type": "markdown",
   "metadata": {},
   "source": [
    "### Code Implementation \n",
    "#### Identify countries with consistently high percentages"
   ]
  },
  {
   "cell_type": "code",
   "execution_count": null,
   "metadata": {},
   "outputs": [],
   "source": [
    "# Countries with consistently high percentages\n",
    "high_percentage_countries = df.groupby('Country')['Value'].mean().nlargest(5)"
   ]
  },
  {
   "cell_type": "markdown",
   "metadata": {},
   "source": [
    "#### Identify countries with consistently low percentages"
   ]
  },
  {
   "cell_type": "code",
   "execution_count": null,
   "metadata": {},
   "outputs": [],
   "source": [
    "# Countries with consistently low percentages\n",
    "low_percentage_countries = df.groupby('Country')['Value'].mean().nsmallest(5)"
   ]
  },
  {
   "cell_type": "markdown",
   "metadata": {},
   "source": [
    "#### Plotting"
   ]
  },
  {
   "cell_type": "code",
   "execution_count": null,
   "metadata": {},
   "outputs": [],
   "source": [
    "# Plot bar chart for high and low percentage countries\n",
    "plt.figure(figsize=(12, 6))\n",
    "sns.barplot(x=high_percentage_countries.index, y=high_percentage_countries.values, color='blue')\n",
    "plt.title('Top 5 Countries with Consistently High Percentage of Women in Management')\n",
    "plt.xlabel('Country')\n",
    "plt.ylabel('Average Percentage of Women')\n",
    "plt.show()\n",
    "\n",
    "plt.figure(figsize=(12, 6))\n",
    "sns.barplot(x=low_percentage_countries.index, y=low_percentage_countries.values, color='red')\n",
    "plt.title('Top 5 Countries with Consistently Low Percentage of Women in Management')\n",
    "plt.xlabel('Country')\n",
    "plt.ylabel('Average Percentage of Women')\n",
    "plt.show()"
   ]
  },
  {
   "cell_type": "markdown",
   "metadata": {},
   "source": [
    "### Results\n",
    "The bar plots illustrate the top 5 countries with consistently high and low percentages of women in senior and middle management positions. "
   ]
  },
  {
   "cell_type": "markdown",
   "metadata": {},
   "source": [
    "### Discussion\n",
    "Identifying countries with consistent high and low percentages is instrumental in targeting interventions and policies for gender equality. This analysis provides actionable insights aligned with SDG 5."
   ]
  },
  {
   "cell_type": "markdown",
   "metadata": {},
   "source": [
    "## Conclusion\n",
    "In conclusion, recognizing countries with specific trends in women's representation in management positions is crucial for formulating tailored strategies. The findings contribute to SDG 5 by facilitating informed decision-making to address disparities."
   ]
  },
  {
   "cell_type": "markdown",
   "metadata": {},
   "source": [
    "### Next Steps\n",
    "- Expand the analysis to include additional countries and regions.\n",
    "- Investigate factors contributing to variations in women's representation across countries.\n",
    "- Explore the potential correlation between country-specific policies and the percentage of women in management."
   ]
  },
  {
   "cell_type": "markdown",
   "metadata": {},
   "source": [
    "## References\n",
    "- Dataset Source: https://www.kaggle.com/datasets/zahrashahzahi/women-managers \n",
    "\n",
    "- SDG 5: https://sdgs.un.org/goals/goal5"
   ]
  }
 ],
 "metadata": {
  "language_info": {
   "name": "python"
  }
 },
 "nbformat": 4,
 "nbformat_minor": 2
}
